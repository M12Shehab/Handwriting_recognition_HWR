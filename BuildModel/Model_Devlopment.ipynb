{
 "cells": [
  {
   "cell_type": "markdown",
   "id": "f9d203c6-0fe1-4993-aed0-fa23769c10f3",
   "metadata": {},
   "source": [
    "# Handwriting recognition (HWR)"
   ]
  },
  {
   "cell_type": "markdown",
   "id": "c1c65607-9c22-4d01-b133-dcb2cba807f9",
   "metadata": {},
   "source": [
    "### Author: Mohammed Shehab\n",
    "\n",
    "This script provides a comprehensive guide to:\n",
    "1. Loading and preprocessing the dataset\n",
    "2. Constructing a Convolutional Neural Network (CNN) model architecture\n",
    "3. Performing hyperparameter tuning to optimize the CNN model\n",
    "4. Exporting the best-performing model for deployment\n",
    "\n",
    "**Deployment will be facilitated using Docker containerization to ensure a scalable and reproducible environment.**\n"
   ]
  },
  {
   "cell_type": "code",
   "execution_count": null,
   "id": "3cf96531-229e-461d-a892-9cb0f248aac8",
   "metadata": {},
   "outputs": [],
   "source": [
    "import tensorflow as tf\n",
    "from tensorflow.keras import layers, models\n",
    "from keras_tuner import HyperModel, RandomSearch\n",
    "import numpy as np"
   ]
  },
  {
   "cell_type": "markdown",
   "id": "d579ae4d-2a91-403f-8b03-6d8a34aaca11",
   "metadata": {},
   "source": [
    "Check GPU availablilty "
   ]
  },
  {
   "cell_type": "code",
   "execution_count": 3,
   "id": "6f373305-01bd-44db-9aa9-bae159dc6db5",
   "metadata": {},
   "outputs": [
    {
     "name": "stdout",
     "output_type": "stream",
     "text": [
      "Num GPUs Available:  1\n"
     ]
    }
   ],
   "source": [
    "print(\"Num GPUs Available: \", len(tf.config.list_physical_devices('GPU')))"
   ]
  },
  {
   "cell_type": "markdown",
   "id": "b806f7e2-f3ee-4a22-9815-ba8d7d667947",
   "metadata": {},
   "source": [
    "### Load dataset"
   ]
  },
  {
   "cell_type": "code",
   "execution_count": 4,
   "id": "1f6e8cfb-d448-4593-aa2d-8dd6c3e4f7cb",
   "metadata": {},
   "outputs": [],
   "source": [
    "# Load and preprocess the MNIST dataset\n",
    "def load_data():\n",
    "    (x_train, y_train), (x_test, y_test) = tf.keras.datasets.mnist.load_data()\n",
    "    x_train, x_test = x_train / 255.0, x_test / 255.0  # Normalize\n",
    "    x_train = np.expand_dims(x_train, axis=-1)\n",
    "    x_test = np.expand_dims(x_test, axis=-1)\n",
    "    return (x_train, y_train), (x_test, y_test)"
   ]
  },
  {
   "cell_type": "markdown",
   "id": "c7626f4d-db6f-46d6-a772-a0818796ac8a",
   "metadata": {},
   "source": [
    "### Define a HyperModel class for Keras Tuner with adjustable hyperparameters"
   ]
  },
  {
   "cell_type": "code",
   "execution_count": 5,
   "id": "c293b3d9-bd35-4da8-a9b3-d48c6cd61f3f",
   "metadata": {},
   "outputs": [],
   "source": [
    "class CNNHyperModel(HyperModel):\n",
    "    def build(self, hp):\n",
    "        model = models.Sequential()\n",
    "        \n",
    "        # Conv1\n",
    "        model.add(layers.Conv2D(\n",
    "            filters=hp.Int('conv1_filters', min_value=16, max_value=64, step=16),\n",
    "            kernel_size=(3, 3),\n",
    "            activation='relu',\n",
    "            input_shape=(28, 28, 1)\n",
    "        ))\n",
    "        model.add(layers.MaxPooling2D((2, 2)))\n",
    "        \n",
    "        # Conv2_1 and Conv2_2\n",
    "        for i in range(2):\n",
    "            model.add(layers.Conv2D(\n",
    "                filters=hp.Int(f'conv2_filters_{i+1}', min_value=32, max_value=128, step=32),\n",
    "                kernel_size=(3, 3),\n",
    "                activation='relu'\n",
    "            ))\n",
    "        \n",
    "        # MaxPooling\n",
    "        model.add(layers.MaxPooling2D((2, 2)))\n",
    "        \n",
    "        # Conv3_1 and Conv3_2\n",
    "        model.add(layers.Conv2D(\n",
    "            filters=hp.Int('conv3_filters', min_value=128, max_value=512, step=128),\n",
    "            kernel_size=(3, 3),\n",
    "            activation='relu'\n",
    "        ))\n",
    "        \n",
    "        model.add(layers.Flatten())\n",
    "        \n",
    "        # Fully Connected Layer 1\n",
    "        model.add(layers.Dense(\n",
    "            units=hp.Int('fc1_units', min_value=500, max_value=1000, step=250),\n",
    "            activation='relu'\n",
    "        ))\n",
    "        \n",
    "        # Fully Connected Layer 2\n",
    "        model.add(layers.Dense(\n",
    "            units=hp.Int('fc2_units', min_value=250, max_value=500, step=250),\n",
    "            activation='relu'\n",
    "        ))\n",
    "        \n",
    "        # Output Layer\n",
    "        model.add(layers.Dense(10, activation='softmax'))\n",
    "        \n",
    "        # Compile model\n",
    "        model.compile(\n",
    "            optimizer=tf.keras.optimizers.Adam(\n",
    "                learning_rate=hp.Float('learning_rate', min_value=1e-4, max_value=1e-2, sampling='LOG')\n",
    "            ),\n",
    "            loss='sparse_categorical_crossentropy',\n",
    "            metrics=['accuracy']\n",
    "        )\n",
    "        \n",
    "        return model"
   ]
  },
  {
   "cell_type": "code",
   "execution_count": 6,
   "id": "f18faca9-6701-4431-8316-a00dfc6a6d43",
   "metadata": {},
   "outputs": [
    {
     "name": "stdout",
     "output_type": "stream",
     "text": [
      "Downloading data from https://storage.googleapis.com/tensorflow/tf-keras-datasets/mnist.npz\n",
      "11490434/11490434 [==============================] - 1s 0us/step\n"
     ]
    }
   ],
   "source": [
    "(x_train, y_train), (x_test, y_test) = load_data()"
   ]
  },
  {
   "cell_type": "code",
   "execution_count": 10,
   "id": "ba25d103-0e27-436d-93f3-47a0c92f6505",
   "metadata": {},
   "outputs": [
    {
     "data": {
      "text/plain": [
       "(60000, 28, 28, 1)"
      ]
     },
     "execution_count": 10,
     "metadata": {},
     "output_type": "execute_result"
    }
   ],
   "source": [
    "x_train.shape"
   ]
  },
  {
   "cell_type": "code",
   "execution_count": 11,
   "id": "48fa2bbb-e9b4-449b-a95e-b436fb8ef322",
   "metadata": {},
   "outputs": [
    {
     "data": {
      "text/plain": [
       "(10000, 28, 28, 1)"
      ]
     },
     "execution_count": 11,
     "metadata": {},
     "output_type": "execute_result"
    }
   ],
   "source": [
    "x_test.shape"
   ]
  },
  {
   "cell_type": "markdown",
   "id": "a9e4d724-1c58-46ff-8623-b8a071b2834f",
   "metadata": {},
   "source": [
    "### Initialize the Keras Tuner"
   ]
  },
  {
   "cell_type": "code",
   "execution_count": 12,
   "id": "2e1f7169-58bf-46fe-a11e-c2f4a9c2153e",
   "metadata": {},
   "outputs": [],
   "source": [
    "tuner = RandomSearch(\n",
    "    CNNHyperModel(),\n",
    "    objective='val_accuracy',\n",
    "    max_trials=10,  # Number of different hyperparameter combinations to try\n",
    "    executions_per_trial=2,  # Average results over multiple runs\n",
    "    directory='tuning_results',\n",
    "    project_name='mnist_cnn_tuning'\n",
    ")"
   ]
  },
  {
   "cell_type": "markdown",
   "id": "c6dbf461-be97-45aa-9eb8-ce67d3ac1886",
   "metadata": {},
   "source": [
    "### Perform hyperparameter search"
   ]
  },
  {
   "cell_type": "code",
   "execution_count": 13,
   "id": "29c11d80-5b5d-4ae4-ad26-3b35fb51f1ef",
   "metadata": {},
   "outputs": [
    {
     "name": "stdout",
     "output_type": "stream",
     "text": [
      "Trial 10 Complete [00h 02m 09s]\n",
      "val_accuracy: 0.991349995136261\n",
      "\n",
      "Best val_accuracy So Far: 0.9930500090122223\n",
      "Total elapsed time: 00h 21m 18s\n"
     ]
    }
   ],
   "source": [
    "tuner.search(x_train, y_train, epochs=5, validation_data=(x_test, y_test))"
   ]
  },
  {
   "cell_type": "code",
   "execution_count": 14,
   "id": "5716f60e-d4b2-4618-b214-1be2345496a1",
   "metadata": {},
   "outputs": [
    {
     "name": "stdout",
     "output_type": "stream",
     "text": [
      "Best hyperparameters found:\n",
      "{'conv1_filters': 48, 'conv2_filters_1': 96, 'conv2_filters_2': 96, 'conv3_filters': 256, 'fc1_units': 1000, 'fc2_units': 250, 'learning_rate': 0.0003031375640856382}\n"
     ]
    }
   ],
   "source": [
    "# Retrieve the best model and hyperparameters\n",
    "best_model = tuner.get_best_models(num_models=1)[0]\n",
    "best_hyperparameters = tuner.get_best_hyperparameters(num_trials=1)[0]\n",
    "\n",
    "print(\"Best hyperparameters found:\")\n",
    "print(best_hyperparameters.values)"
   ]
  },
  {
   "cell_type": "markdown",
   "id": "fec58c72-4556-4c79-9d28-435ba2ce0a22",
   "metadata": {},
   "source": [
    "### Export model for deployment phase"
   ]
  },
  {
   "cell_type": "code",
   "execution_count": 22,
   "id": "00633b59-d644-4884-acb7-786e776db8b6",
   "metadata": {},
   "outputs": [
    {
     "name": "stdout",
     "output_type": "stream",
     "text": [
      "./exported_models/best_model_v1_0_0.h5\n",
      "Model saved to ./exported_models/best_model_v1_0_0.h5\n"
     ]
    }
   ],
   "source": [
    "import os\n",
    "from tensorflow.keras.models import save_model\n",
    "\n",
    "model_version = \"v1_0_0\"  # Update this version number as needed\n",
    "# Define the directory and model file paths separately\n",
    "model_directory = './exported_models/'\n",
    "model_file_path = os.path.join(model_directory, f'best_model_{model_version}.h5')\n",
    "\n",
    "# Create the directory if it doesn't exist\n",
    "os.makedirs(model_directory, exist_ok=True)\n",
    "print(model_file_path)\n",
    "# Save the model in the specified versioned file path\n",
    "best_model.save(model_file_path)\n",
    "print(f\"Model saved to {model_file_path}\")\n"
   ]
  },
  {
   "cell_type": "code",
   "execution_count": null,
   "id": "22b400fb-2b0f-4dce-b6fd-6d8b36c17d10",
   "metadata": {},
   "outputs": [],
   "source": []
  }
 ],
 "metadata": {
  "kernelspec": {
   "display_name": "Python 3 (ipykernel)",
   "language": "python",
   "name": "python3"
  },
  "language_info": {
   "codemirror_mode": {
    "name": "ipython",
    "version": 3
   },
   "file_extension": ".py",
   "mimetype": "text/x-python",
   "name": "python",
   "nbconvert_exporter": "python",
   "pygments_lexer": "ipython3",
   "version": "3.10.13"
  }
 },
 "nbformat": 4,
 "nbformat_minor": 5
}
